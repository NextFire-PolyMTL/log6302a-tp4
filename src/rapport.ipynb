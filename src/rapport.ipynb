{
 "cells": [
  {
   "cell_type": "markdown",
   "metadata": {},
   "source": [
    "# LOG6302A — Analyse d’applications et Cyber-sécurité<br>Laboratoire #4\n",
    "\n",
    "**Quentin Guidée (2206809), Nam Vu (2230468)**\n",
    "\n",
    "Polytechnique Montréal – Hiver 2024\n"
   ]
  },
  {
   "cell_type": "code",
   "execution_count": 4,
   "metadata": {},
   "outputs": [],
   "source": [
    "import tempfile\n",
    "\n",
    "from code_analysis import CFGReader, Graph\n",
    "from dataflow import PossibleReachableReferences, PossiblyReachingDefinitions\n",
    "from graphviz import Source\n",
    "from IPython.display import Image\n",
    "\n",
    "cfg_reader = CFGReader()\n",
    "\n",
    "\n",
    "def show_graph(graph: Graph):\n",
    "    \"\"\"Afficher le graphe dans Jupyter\"\"\"\n",
    "    dot = graph.to_dot()\n",
    "    s = Source(dot)\n",
    "    with tempfile.NamedTemporaryFile(suffix=\".png\") as f:\n",
    "        s.render(f.name, format=\"png\")\n",
    "        display(Image(f.name + \".png\"))"
   ]
  },
  {
   "cell_type": "code",
   "execution_count": null,
   "metadata": {},
   "outputs": [],
   "source": []
  }
 ],
 "metadata": {
  "kernelspec": {
   "display_name": "log6302a-tp4-fRynuGaz-py3.12",
   "language": "python",
   "name": "python3"
  },
  "language_info": {
   "codemirror_mode": {
    "name": "ipython",
    "version": 3
   },
   "file_extension": ".py",
   "mimetype": "text/x-python",
   "name": "python",
   "nbconvert_exporter": "python",
   "pygments_lexer": "ipython3",
   "version": "3.12.2"
  }
 },
 "nbformat": 4,
 "nbformat_minor": 2
}
